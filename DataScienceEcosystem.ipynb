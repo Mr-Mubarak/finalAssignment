{
 "cells": [
  {
   "cell_type": "markdown",
   "id": "c5f65577-f0f3-4f64-89cd-b08ab8e5d028",
   "metadata": {},
   "source": [
    "# Data Science Tools and Ecosystem\n",
    "In this notebook, Data Science Tools and Ecosystem are summarized.\n",
    "\n",
    "**Objectives:**\n",
    "* List of popular languages that Data Scientists use\n",
    "* List of commonly used libraries in Data Science\n",
    "* Table of Data Science Tools\n",
    "* Examples of evaluating arithmetic expressions in Python"
   ]
  },
  {
   "cell_type": "markdown",
   "id": "6f4754be-90fc-45f1-a6d8-bc6549052a7b",
   "metadata": {},
   "source": [
    "###### Some of the popular languages that Data Scientists use are:\n",
    "1. Python\n",
    "2. R\n",
    "3. SQL"
   ]
  },
  {
   "cell_type": "markdown",
   "id": "b59d75c7-7b55-40d2-92f9-06197fc341ab",
   "metadata": {},
   "source": [
    "###### Some of the commonly used libraries used by Data Scientists include:\r\n",
    "1. Matplotlib\r\n",
    "2. Pandas\r\n",
    "3. NumPy\r\n",
    "4. Sci-kit-learnearn"
   ]
  },
  {
   "cell_type": "markdown",
   "id": "d7b40924-9928-4e8a-8bba-b6251ba7f0b2",
   "metadata": {},
   "source": [
    "|Data Science Tools|\n",
    "|---|\n",
    "|1. RStudio |\n",
    "|2. Apache Spark|\n",
    "|3. TensorFlow|"
   ]
  },
  {
   "cell_type": "markdown",
   "id": "64f15a94-c550-437f-a8ac-86f0a82a7a17",
   "metadata": {},
   "source": [
    "### Below are a few examples of evaluating arithmetic expressions in Python"
   ]
  },
  {
   "cell_type": "code",
   "execution_count": 3,
   "id": "650cc52e-1331-43b4-8fa3-b045b562c50c",
   "metadata": {},
   "outputs": [
    {
     "name": "stdout",
     "output_type": "stream",
     "text": [
      "5\n"
     ]
    }
   ],
   "source": [
    "# \n",
    "x=2\n",
    "y=3\n",
    "z= x+y\n",
    "print(z)"
   ]
  },
  {
   "cell_type": "code",
   "execution_count": 4,
   "id": "7adf38bd-e409-4faa-a3a6-8679f02943a9",
   "metadata": {},
   "outputs": [
    {
     "name": "stdout",
     "output_type": "stream",
     "text": [
      "1\n"
     ]
    }
   ],
   "source": [
    "# Substraction\n",
    "x=4\n",
    "y=3\n",
    "z= x-y\n",
    "print(z)"
   ]
  },
  {
   "cell_type": "code",
   "execution_count": 5,
   "id": "45903c08-026d-4083-83a4-5e9d9c276a0d",
   "metadata": {},
   "outputs": [
    {
     "name": "stdout",
     "output_type": "stream",
     "text": [
      "10\n"
     ]
    }
   ],
   "source": [
    "# Multiplication\n",
    "x=2\n",
    "y=5\n",
    "z= x*y\n",
    "print(z)"
   ]
  },
  {
   "cell_type": "code",
   "execution_count": 6,
   "id": "09028660-facb-4403-b5a8-925e365d4433",
   "metadata": {},
   "outputs": [
    {
     "name": "stdout",
     "output_type": "stream",
     "text": [
      "3.0\n"
     ]
    }
   ],
   "source": [
    "# Division\n",
    "x=9\n",
    "y=3\n",
    "z= x/y\n",
    "print(z)"
   ]
  },
  {
   "cell_type": "code",
   "execution_count": 7,
   "id": "5879cc7c-c1cf-4d49-af75-d5cfda8772d5",
   "metadata": {},
   "outputs": [
    {
     "name": "stdout",
     "output_type": "stream",
     "text": [
      "17\n"
     ]
    }
   ],
   "source": [
    "# This a simple arithmetic expression to mutiply then add integers\n",
    "x = (3*4)+5\n",
    "print(x)"
   ]
  },
  {
   "cell_type": "code",
   "execution_count": 8,
   "id": "c2a29b1b-cc5f-4da5-872a-897bbaa5ab7a",
   "metadata": {},
   "outputs": [
    {
     "name": "stdout",
     "output_type": "stream",
     "text": [
      "3.3333333333333335\n"
     ]
    }
   ],
   "source": [
    "# This will convert 200 minutes to hours by diving by 60\n",
    "m = 200  # Minutes\n",
    "s = 60   # 60 Seconds\n",
    "h= m/s\n",
    "print(h)"
   ]
  },
  {
   "cell_type": "markdown",
   "id": "f532c06b-dcd4-4ddf-bb5b-c3b0612208b0",
   "metadata": {},
   "source": [
    "## Author\n",
    "Mubarakuddin"
   ]
  },
  {
   "cell_type": "code",
   "execution_count": null,
   "id": "5f049b5f-66cf-458f-a67b-37a77174bff0",
   "metadata": {},
   "outputs": [],
   "source": []
  }
 ],
 "metadata": {
  "kernelspec": {
   "display_name": "Python 3 (ipykernel)",
   "language": "python",
   "name": "python3"
  },
  "language_info": {
   "codemirror_mode": {
    "name": "ipython",
    "version": 3
   },
   "file_extension": ".py",
   "mimetype": "text/x-python",
   "name": "python",
   "nbconvert_exporter": "python",
   "pygments_lexer": "ipython3",
   "version": "3.11.7"
  }
 },
 "nbformat": 4,
 "nbformat_minor": 5
}
